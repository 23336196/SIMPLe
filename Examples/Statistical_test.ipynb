{
 "cells": [
  {
   "cell_type": "code",
   "execution_count": 16,
   "id": "designed-poker",
   "metadata": {
    "scrolled": true
   },
   "outputs": [],
   "source": [
    "import numpy as np\n",
    "import scipy.stats as st\n",
    "a=[1116, 965, 1188, 827,1795, 1180 , 1205]\n",
    "a=np.array(a)/50\n",
    "b=[9430, 8028, 9430, 9430, 4730, 5294, 9430]\n",
    "b=np.array(b)/50\n",
    "(stat, p) = st.ttest_rel(a,b)"
   ]
  },
  {
   "cell_type": "code",
   "execution_count": 17,
   "id": "chemical-astronomy",
   "metadata": {},
   "outputs": [
    {
     "data": {
      "text/plain": [
       "0.00023596186991269562"
      ]
     },
     "execution_count": 17,
     "metadata": {},
     "output_type": "execute_result"
    }
   ],
   "source": [
    "p"
   ]
  },
  {
   "cell_type": "code",
   "execution_count": 18,
   "id": "becoming-calculator",
   "metadata": {},
   "outputs": [
    {
     "data": {
      "text/plain": [
       "-7.788775387894685"
      ]
     },
     "execution_count": 18,
     "metadata": {},
     "output_type": "execute_result"
    }
   ],
   "source": [
    "stat"
   ]
  },
  {
   "cell_type": "code",
   "execution_count": 19,
   "id": "yellow-methodology",
   "metadata": {},
   "outputs": [
    {
     "data": {
      "text/plain": [
       "23.645714285714288"
      ]
     },
     "execution_count": 19,
     "metadata": {},
     "output_type": "execute_result"
    }
   ],
   "source": [
    "np.mean(a)"
   ]
  },
  {
   "cell_type": "code",
   "execution_count": 20,
   "id": "current-infrastructure",
   "metadata": {},
   "outputs": [
    {
     "data": {
      "text/plain": [
       "5.6254900920284445"
      ]
     },
     "execution_count": 20,
     "metadata": {},
     "output_type": "execute_result"
    }
   ],
   "source": [
    "np.std(a)"
   ]
  },
  {
   "cell_type": "code",
   "execution_count": 21,
   "id": "spare-scale",
   "metadata": {},
   "outputs": [
    {
     "data": {
      "text/plain": [
       "159.34857142857143"
      ]
     },
     "execution_count": 21,
     "metadata": {},
     "output_type": "execute_result"
    }
   ],
   "source": [
    "np.mean(b)"
   ]
  },
  {
   "cell_type": "code",
   "execution_count": 22,
   "id": "internal-curve",
   "metadata": {},
   "outputs": [
    {
     "data": {
      "text/plain": [
       "38.684285265862314"
      ]
     },
     "execution_count": 22,
     "metadata": {},
     "output_type": "execute_result"
    }
   ],
   "source": [
    "np.std(b)"
   ]
  },
  {
   "cell_type": "code",
   "execution_count": null,
   "id": "romance-marble",
   "metadata": {},
   "outputs": [],
   "source": []
  }
 ],
 "metadata": {
  "kernelspec": {
   "display_name": "Python 3",
   "language": "python",
   "name": "python3"
  },
  "language_info": {
   "codemirror_mode": {
    "name": "ipython",
    "version": 3
   },
   "file_extension": ".py",
   "mimetype": "text/x-python",
   "name": "python",
   "nbconvert_exporter": "python",
   "pygments_lexer": "ipython3",
   "version": "3.8.10"
  }
 },
 "nbformat": 4,
 "nbformat_minor": 5
}
